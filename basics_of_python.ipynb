{
  "nbformat": 4,
  "nbformat_minor": 0,
  "metadata": {
    "colab": {
      "provenance": [],
      "authorship_tag": "ABX9TyOZSMFJ6OXvyWYl7zAPKJU7"
    },
    "kernelspec": {
      "name": "python3",
      "display_name": "Python 3"
    },
    "language_info": {
      "name": "python"
    }
  },
  "cells": [
    {
      "cell_type": "markdown",
      "source": [
        "Question 0:"
      ],
      "metadata": {
        "id": "fkep4cKagj5d"
      }
    },
    {
      "cell_type": "code",
      "source": [
        "# string methods\n",
        "\n",
        "#count()\n",
        "txt =\"hi hi hi \"\n",
        "x = txt.count(\"hi\")\n",
        "print(x)\n",
        "\n",
        "#split()\n",
        "\n",
        "txt = \"i love FMML\"\n",
        "x = txt.split(\" \")\n",
        "print(x)\n",
        "\n",
        "#replace()\n",
        "x = txt.replace(\"FFML\", \"IIITH\")\n",
        "print(x)"
      ],
      "metadata": {
        "colab": {
          "base_uri": "https://localhost:8080/"
        },
        "id": "AsCQhW6Cgp-T",
        "outputId": "db6257b8-128f-4fe0-de58-3dd6f5d83e11"
      },
      "execution_count": 8,
      "outputs": [
        {
          "output_type": "stream",
          "name": "stdout",
          "text": [
            "3\n",
            "['i', 'love', 'FMML']\n",
            "i love FMML\n"
          ]
        }
      ]
    },
    {
      "cell_type": "code",
      "source": [
        "#List methods\n",
        "\n",
        "#append()\n",
        "Algo = ['AL', 'ML']\n",
        "Algo.append(\"DL\")\n",
        "print(Algo)\n",
        "\n",
        "#insert()\n",
        "Algo.insert(1, \"DP\")\n",
        "print(Algo)\n",
        "\n",
        "#reverse()\n",
        "Algo.reverse()\n",
        "print(Algo)\n",
        "\n",
        "\n"
      ],
      "metadata": {
        "colab": {
          "base_uri": "https://localhost:8080/"
        },
        "id": "d7o1FHSTi-gO",
        "outputId": "1bad336d-31cb-4e91-e585-c9b425df13ec"
      },
      "execution_count": 15,
      "outputs": [
        {
          "output_type": "stream",
          "name": "stdout",
          "text": [
            "['AL', 'ML', 'DL']\n",
            "['AL', 'DP', 'ML', 'DL']\n",
            "['DL', 'ML', 'DP', 'AL']\n"
          ]
        }
      ]
    },
    {
      "cell_type": "code",
      "source": [
        "#Tuples\n",
        "\n",
        "#count()\n",
        "t = (1, 3, 7, 8, 7, 5, 4, 6, 8, 5)\n",
        "\n",
        "x = t.count(7)\n",
        "\n",
        "print(x)\n",
        "\n",
        "#index()\n",
        "x = t.index(8)\n",
        "\n",
        "print(x)"
      ],
      "metadata": {
        "colab": {
          "base_uri": "https://localhost:8080/"
        },
        "id": "EQOvQC_KkvZy",
        "outputId": "3cb1fe7d-7165-4d26-c2c0-e3377fdb00b6"
      },
      "execution_count": 19,
      "outputs": [
        {
          "output_type": "stream",
          "name": "stdout",
          "text": [
            "2\n",
            "3\n"
          ]
        }
      ]
    },
    {
      "cell_type": "code",
      "source": [
        "#sets\n",
        "\n",
        "#add()\n",
        "\n",
        "num = {\"one\", \"two\", \"three\"}\n",
        "num.add(\"four\")\n",
        "print(num)\n",
        "\n",
        "#copy()\n",
        "\n",
        "x = num.copy()\n",
        "print(x)\n",
        "\n",
        "#difference()\n",
        "\n",
        "z = x.difference(num)\n",
        "print(z)"
      ],
      "metadata": {
        "colab": {
          "base_uri": "https://localhost:8080/"
        },
        "id": "hI_CFZZql4Rg",
        "outputId": "a25bbd66-81aa-4e42-8737-23ab30c143d4"
      },
      "execution_count": 22,
      "outputs": [
        {
          "output_type": "stream",
          "name": "stdout",
          "text": [
            "{'one', 'four', 'two', 'three'}\n",
            "{'one', 'four', 'two', 'three'}\n",
            "set()\n"
          ]
        }
      ]
    },
    {
      "cell_type": "code",
      "source": [
        "#dictionaries\n",
        "\n",
        "#get()\n",
        "\n",
        "nums = {\n",
        "  1: \"one\",\n",
        "  2: \"two\",\n",
        "  3: \"three\"\n",
        "}\n",
        "x = nums.get(2)\n",
        "print(x)\n",
        "\n",
        "#values()\n",
        "\n",
        "x = nums.values()\n",
        "print(x)\n",
        "\n",
        "#items()\n",
        "\n",
        "x = nums.items()\n",
        "print(x)"
      ],
      "metadata": {
        "colab": {
          "base_uri": "https://localhost:8080/"
        },
        "id": "V_HFIJpNnHLu",
        "outputId": "487519e6-5b0b-48ac-ead0-499846569279"
      },
      "execution_count": 29,
      "outputs": [
        {
          "output_type": "stream",
          "name": "stdout",
          "text": [
            "two\n",
            "dict_values(['one', 'two', 'three'])\n",
            "dict_items([(1, 'one'), (2, 'two'), (3, 'three')])\n"
          ]
        }
      ]
    },
    {
      "cell_type": "markdown",
      "source": [
        "Question 1:"
      ],
      "metadata": {
        "id": "8qe1bWG4qeZg"
      }
    },
    {
      "cell_type": "code",
      "source": [
        "def revadd(str1,str2):\n",
        "  res=str1[::-1]\n",
        "  res=res+str2\n",
        "  return res\n",
        "\n",
        "a=revadd(\"abc\",\"def\")\n",
        "print(a)"
      ],
      "metadata": {
        "colab": {
          "base_uri": "https://localhost:8080/"
        },
        "id": "PaAO-sDiqiun",
        "outputId": "e3373d06-9043-43b0-a5df-af1481e7f65b"
      },
      "execution_count": 33,
      "outputs": [
        {
          "output_type": "stream",
          "name": "stdout",
          "text": [
            "cbadef\n"
          ]
        }
      ]
    },
    {
      "cell_type": "markdown",
      "source": [
        "Question 2:"
      ],
      "metadata": {
        "id": "ZWI3NH6DuGHf"
      }
    },
    {
      "cell_type": "code",
      "source": [
        "work_hours = [('Abby',100 , 'F'),('Billy',400, 'M'),('Cassie',800,'F'), ('Maggi',600,'F'),('Alex',500,'M'),('Raj',225,'M'),('Penny',920,'F'),('Ben',300,'M')]\n",
        "max=0\n",
        "name=\"\"\n",
        "for x in work_hours:\n",
        "  for y in x:\n",
        "    if(y=='F' and max<=x[1]):\n",
        "      max=x[1]\n",
        "      name=x[0]\n",
        "print(name)\n",
        "print(max*20)"
      ],
      "metadata": {
        "colab": {
          "base_uri": "https://localhost:8080/"
        },
        "id": "ifJoLZzsuJhj",
        "outputId": "cdd9ace2-dda3-4c7e-9bd6-d06796cec35b"
      },
      "execution_count": 37,
      "outputs": [
        {
          "output_type": "stream",
          "name": "stdout",
          "text": [
            "Penny\n",
            "18400\n"
          ]
        }
      ]
    },
    {
      "cell_type": "markdown",
      "source": [
        "Question 3 :\n",
        "(a)"
      ],
      "metadata": {
        "id": "3TR03_mtv7DN"
      }
    },
    {
      "cell_type": "code",
      "source": [
        "import numpy as np\n",
        "\n",
        "a=np.arange(1,6)\n",
        "x=np.vstack((a,a,a,a,a))\n",
        "res=x.T\n",
        "res"
      ],
      "metadata": {
        "colab": {
          "base_uri": "https://localhost:8080/"
        },
        "id": "LA5EPKSyz5KT",
        "outputId": "9692a646-06a0-49e3-9f12-8913c58eda7f"
      },
      "execution_count": 54,
      "outputs": [
        {
          "output_type": "execute_result",
          "data": {
            "text/plain": [
              "array([[1, 1, 1, 1, 1],\n",
              "       [2, 2, 2, 2, 2],\n",
              "       [3, 3, 3, 3, 3],\n",
              "       [4, 4, 4, 4, 4],\n",
              "       [5, 5, 5, 5, 5]])"
            ]
          },
          "metadata": {},
          "execution_count": 54
        }
      ]
    },
    {
      "cell_type": "markdown",
      "source": [
        "Question 3: (b)"
      ],
      "metadata": {
        "id": "XGvDS9R67TG7"
      }
    },
    {
      "cell_type": "code",
      "source": [
        "b=np.arange(0,25).reshape(5,5)\n",
        "print(b)\n",
        "res@b"
      ],
      "metadata": {
        "colab": {
          "base_uri": "https://localhost:8080/"
        },
        "id": "pmxazEWz7XGp",
        "outputId": "cfc39543-e183-4c7b-f82b-822b7f0e22f2"
      },
      "execution_count": 55,
      "outputs": [
        {
          "output_type": "stream",
          "name": "stdout",
          "text": [
            "[[ 0  1  2  3  4]\n",
            " [ 5  6  7  8  9]\n",
            " [10 11 12 13 14]\n",
            " [15 16 17 18 19]\n",
            " [20 21 22 23 24]]\n"
          ]
        },
        {
          "output_type": "execute_result",
          "data": {
            "text/plain": [
              "array([[ 50,  55,  60,  65,  70],\n",
              "       [100, 110, 120, 130, 140],\n",
              "       [150, 165, 180, 195, 210],\n",
              "       [200, 220, 240, 260, 280],\n",
              "       [250, 275, 300, 325, 350]])"
            ]
          },
          "metadata": {},
          "execution_count": 55
        }
      ]
    }
  ]
}